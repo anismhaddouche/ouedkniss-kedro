{
 "cells": [
  {
   "cell_type": "code",
   "execution_count": 1,
   "id": "88338bcc",
   "metadata": {},
   "outputs": [],
   "source": [
    "import pandas as pd \n",
    "import matplotlib \n",
    "import numpy as np\n",
    "from datetime import  datetime\n",
    "import mitosheet\n",
    "from urllib.parse import urlparse\n"
   ]
  },
  {
   "cell_type": "code",
   "execution_count": 22,
   "id": "867de529",
   "metadata": {},
   "outputs": [],
   "source": [
    "\"\"\"\n",
    "This is a boilerplate pipeline 'data_processing'\n",
    " using Kedro 0.18.4\n",
    "\"\"\"\n",
    "\n",
    "import pandas as pd \n",
    "\n",
    "\n",
    "def castToList(x): #casts x to a list\n",
    "    if isinstance(x, list):\n",
    "        return x\n",
    "    elif isinstance(x, str):\n",
    "        return [x]\n",
    "    try:\n",
    "        return list(x)\n",
    "    except TypeError:\n",
    "        return [x]\n",
    "    \n",
    "def get_commune(x : list):\n",
    "    #x = list_to_dict(x)\n",
    "    try :\n",
    "        commune = x[0]['name']\n",
    "    except: \n",
    "        commune = None\n",
    "    return commune\n",
    "\n",
    "\n",
    "def get_wilaya(x : list):\n",
    "    #x = list_to_dict(x)\n",
    "    try :\n",
    "        wilaya = x[0]['region']['name']\n",
    "    except: \n",
    "        wilaya = None\n",
    "    return wilaya\n",
    "\n",
    "\n",
    "def get_medias(column:pd.Series) -> pd.Series:\n",
    "    \"\"\"\n",
    "    In this dataset medias means urls of the annoucements. We create a new column containing a list of avaible urls\n",
    "    \"\"\"\n",
    "    media_all= []\n",
    "    for index,_ in column.items():\n",
    "        media_raw = []\n",
    "        for _, media in enumerate(column.loc[index]):\n",
    "            try : \n",
    "                media_raw.append(media['mediaUrl'])\n",
    "            except:\n",
    "                media_raw.append(None)\n",
    "        media_all.append(media_raw)   \n",
    "    return pd.Series(media_all)\n",
    "\n",
    "\n",
    "def get_specs(column : pd.Series) -> pd.DataFrame : \n",
    "    \"\"\"\n",
    "    Extract the following specification from the column \"specs\" :\n",
    "        location_duree, superficie,\tpieces,\tasset-in-a-promotional-site\tproperty-specifications,\tpapers,\tetages\tsale-by-real-estate-agent,\tproperty-payment-conditions\n",
    "    \"\"\"\n",
    "\n",
    "    specs_all = [] \n",
    "    # Loop on all rows\n",
    "    for index,_ in column.items():\n",
    "        specs_raw = {}\n",
    "        for i, spec in enumerate(column.loc[index]):\n",
    "            label = spec[\"specification\"]['codename']\n",
    "            try: \n",
    "                value = spec[\"value\"]\n",
    "                if len(value) == 1:\n",
    "                    value = value[0]\n",
    "            except :\n",
    "                value = []\n",
    "            specs_raw[label] = [value]\n",
    "        specs_all.append(specs_raw)\n",
    "    df =  pd.DataFrame(specs_all)\n",
    "    #df[\"property-specifications\"] = df[\"property-specifications\"].astype(list)\n",
    "    return df\n",
    "\n",
    "\n",
    "def preprocess_announcements(data) -> pd.DataFrame:\n",
    "    \"\"\"Preprocesses the data of announcements.\n",
    "\n",
    "    Args:\n",
    "        data: Raw data.\n",
    "    Returns:\n",
    "        preprocessed_announcements : Intermediate data\n",
    "       \n",
    "    \"\"\"\n",
    "    # Convert Data, which is a list of lists, into one flatten list \n",
    "    preprocessed_announcements = pd.DataFrame([item for sublist in data for item in sublist]) \n",
    "\n",
    "    # Get id \n",
    "    idx = preprocessed_announcements[\"id\"]\n",
    "    # Get slug \n",
    "    slug = preprocessed_announcements[\"slug\"]\n",
    "    # Get description \n",
    "    description =  preprocessed_announcements[\"description\"]\n",
    "    # Get if the announcement is from store or not\n",
    "    isFromStore = preprocessed_announcements[\"isFromStore\"]\n",
    "    # Get the number of like \n",
    "    likeCount = preprocessed_announcements[\"likeCount\"]\n",
    "    # Convert 'createdAt' to a Datetime format \n",
    "    createdAt = pd.to_datetime(preprocessed_announcements['createdAt'])\n",
    "    #Convert each raw of 'category', which is a dict (eg : {\"name\": \"Appartement\"}), to a sting  (eg :\"Appartement\")\n",
    "    category = preprocessed_announcements[\"category\"].apply(lambda x :x[\"name\"])\n",
    "    #Get the commune \n",
    "    commune = preprocessed_announcements[\"cities\"].apply(lambda x : get_commune(x)).rename(\"commune\")\n",
    "    #Get the wilaya\n",
    "    wilaya = preprocessed_announcements[\"cities\"].apply(lambda x : get_wilaya(x)).rename(\"wilaya\")\n",
    "    #Get the Store name \n",
    "    store = preprocessed_announcements[\"store\"].apply(lambda x : x.get('slug') if x != None else None)\n",
    "    # Convert PriceType to a categorical data \n",
    "    priceType = preprocessed_announcements[\"priceType\"]\n",
    "    # Get the price in million\n",
    "    price = preprocessed_announcements[\"price\"]\n",
    "    # Get the Unit price \n",
    "    priceUnit = preprocessed_announcements[\"priceUnit\"]\n",
    "    # Get medias (urls)\n",
    "    medias = get_medias(preprocessed_announcements[\"medias\"])\n",
    "    # Get some specification in a DataFrame\n",
    "    specs = get_specs(preprocessed_announcements[\"specs\"])\n",
    "    specs[\"medias\"] = medias\n",
    "    # Create the outout DataFrame\n",
    "    df_1 = pd.DataFrame([idx,category,slug,description,price,priceType,priceUnit,wilaya,commune,createdAt,likeCount,isFromStore]).T\n",
    "    # Convert some variable \n",
    "    df_1[\"priceType\"] = df_1[\"priceType\"].astype(\"category\")\n",
    "    df_1[\"priceUnit\"] = df_1[\"priceUnit\"].astype(\"category\")\n",
    "\n",
    "    return df_1.join(specs)"
   ]
  },
  {
   "cell_type": "code",
   "execution_count": 23,
   "id": "4a29a63c",
   "metadata": {},
   "outputs": [],
   "source": [
    "# 1 Corriger les spécifications \n",
    "# 2 rajouter les images \n",
    "# 3"
   ]
  },
  {
   "cell_type": "code",
   "execution_count": 24,
   "id": "138b0123",
   "metadata": {},
   "outputs": [
    {
     "data": {
      "text/html": [
       "<pre style=\"white-space:pre;overflow-x:auto;line-height:normal;font-family:Menlo,'DejaVu Sans Mono',consolas,'Courier New',monospace\"><span style=\"color: #7fbfbf; text-decoration-color: #7fbfbf\">[12/21/22 13:54:02] </span><span style=\"color: #000080; text-decoration-color: #000080\">INFO    </span> Loading data from <span style=\"color: #008000; text-decoration-color: #008000\">'data'</span> <span style=\"font-weight: bold\">(</span>JSONDataSet<span style=\"font-weight: bold\">)</span><span style=\"color: #808000; text-decoration-color: #808000\">...</span>                          <a href=\"file:///Users/anis/miniforge3/envs/scraping/lib/python3.9/site-packages/kedro/io/data_catalog.py\" target=\"_blank\"><span style=\"color: #7f7f7f; text-decoration-color: #7f7f7f\">data_catalog.py</span></a><span style=\"color: #7f7f7f; text-decoration-color: #7f7f7f\">:</span><a href=\"file:///Users/anis/miniforge3/envs/scraping/lib/python3.9/site-packages/kedro/io/data_catalog.py#343\" target=\"_blank\"><span style=\"color: #7f7f7f; text-decoration-color: #7f7f7f\">343</span></a>\n",
       "</pre>\n"
      ],
      "text/plain": [
       "\u001b[2;36m[12/21/22 13:54:02]\u001b[0m\u001b[2;36m \u001b[0m\u001b[34mINFO    \u001b[0m Loading data from \u001b[32m'data'\u001b[0m \u001b[1m(\u001b[0mJSONDataSet\u001b[1m)\u001b[0m\u001b[33m...\u001b[0m                          \u001b]8;id=851209;file:///Users/anis/miniforge3/envs/scraping/lib/python3.9/site-packages/kedro/io/data_catalog.py\u001b\\\u001b[2mdata_catalog.py\u001b[0m\u001b]8;;\u001b\\\u001b[2m:\u001b[0m\u001b]8;id=348181;file:///Users/anis/miniforge3/envs/scraping/lib/python3.9/site-packages/kedro/io/data_catalog.py#343\u001b\\\u001b[2m343\u001b[0m\u001b]8;;\u001b\\\n"
      ]
     },
     "metadata": {},
     "output_type": "display_data"
    }
   ],
   "source": [
    "data = catalog.load(\"data\")\n",
    "preprocessed_announcements = pd.DataFrame([item for sublist in data for item in sublist]) \n",
    "specs = get_specs(preprocessed_announcements[\"specs\"])\n"
   ]
  },
  {
   "cell_type": "code",
   "execution_count": 25,
   "id": "1b01e3de",
   "metadata": {
    "scrolled": true
   },
   "outputs": [
    {
     "data": {
      "text/html": [
       "<pre style=\"white-space:pre;overflow-x:auto;line-height:normal;font-family:Menlo,'DejaVu Sans Mono',consolas,'Courier New',monospace\"><span style=\"font-weight: bold\">&lt;</span><span style=\"color: #ff00ff; text-decoration-color: #ff00ff; font-weight: bold\">class</span><span style=\"color: #000000; text-decoration-color: #000000\"> </span><span style=\"color: #008000; text-decoration-color: #008000\">'list'</span><span style=\"font-weight: bold\">&gt;</span>\n",
       "</pre>\n"
      ],
      "text/plain": [
       "\u001b[1m<\u001b[0m\u001b[1;95mclass\u001b[0m\u001b[39m \u001b[0m\u001b[32m'list'\u001b[0m\u001b[1m>\u001b[0m\n"
      ]
     },
     "metadata": {},
     "output_type": "display_data"
    }
   ],
   "source": [
    "df = preprocess_announcements(data)\n",
    "type(df[\"property-specifications\"].loc[0])"
   ]
  },
  {
   "cell_type": "code",
   "execution_count": 21,
   "id": "61fd3eaf",
   "metadata": {},
   "outputs": [
    {
     "data": {
      "text/html": [
       "<pre style=\"white-space:pre;overflow-x:auto;line-height:normal;font-family:Menlo,'DejaVu Sans Mono',consolas,'Courier New',monospace\"><span style=\"font-weight: bold\">[</span>nan<span style=\"font-weight: bold\">]</span>\n",
       "</pre>\n"
      ],
      "text/plain": [
       "\u001b[1m[\u001b[0mnan\u001b[1m]\u001b[0m\n"
      ]
     },
     "metadata": {},
     "output_type": "display_data"
    }
   ],
   "source": [
    "[np.nan]"
   ]
  },
  {
   "cell_type": "code",
   "execution_count": 1,
   "id": "2caa6b33",
   "metadata": {},
   "outputs": [
    {
     "data": {
      "text/html": [
       "<pre style=\"white-space:pre;overflow-x:auto;line-height:normal;font-family:Menlo,'DejaVu Sans Mono',consolas,'Courier New',monospace\"><span style=\"font-weight: bold\">[</span><span style=\"color: #008000; text-decoration-color: #008000\">'data'</span>, <span style=\"color: #008000; text-decoration-color: #008000\">'preprocessed_announcements'</span>, <span style=\"color: #008000; text-decoration-color: #008000\">'parameters'</span><span style=\"font-weight: bold\">]</span>\n",
       "</pre>\n"
      ],
      "text/plain": [
       "\u001b[1m[\u001b[0m\u001b[32m'data'\u001b[0m, \u001b[32m'preprocessed_announcements'\u001b[0m, \u001b[32m'parameters'\u001b[0m\u001b[1m]\u001b[0m\n"
      ]
     },
     "metadata": {},
     "output_type": "display_data"
    }
   ],
   "source": [
    "catalog.list()"
   ]
  },
  {
   "cell_type": "code",
   "execution_count": 2,
   "id": "2be11c88",
   "metadata": {},
   "outputs": [
    {
     "data": {
      "text/html": [
       "<pre style=\"white-space:pre;overflow-x:auto;line-height:normal;font-family:Menlo,'DejaVu Sans Mono',consolas,'Courier New',monospace\"><span style=\"color: #7fbfbf; text-decoration-color: #7fbfbf\">[12/21/22 13:55:58] </span><span style=\"color: #000080; text-decoration-color: #000080\">INFO    </span> Loading data from <span style=\"color: #008000; text-decoration-color: #008000\">'preprocessed_announcements'</span> <span style=\"font-weight: bold\">(</span>ParquetDataSet<span style=\"font-weight: bold\">)</span><span style=\"color: #808000; text-decoration-color: #808000\">...</span> <a href=\"file:///Users/anis/miniforge3/envs/scraping/lib/python3.9/site-packages/kedro/io/data_catalog.py\" target=\"_blank\"><span style=\"color: #7f7f7f; text-decoration-color: #7f7f7f\">data_catalog.py</span></a><span style=\"color: #7f7f7f; text-decoration-color: #7f7f7f\">:</span><a href=\"file:///Users/anis/miniforge3/envs/scraping/lib/python3.9/site-packages/kedro/io/data_catalog.py#343\" target=\"_blank\"><span style=\"color: #7f7f7f; text-decoration-color: #7f7f7f\">343</span></a>\n",
       "</pre>\n"
      ],
      "text/plain": [
       "\u001b[2;36m[12/21/22 13:55:58]\u001b[0m\u001b[2;36m \u001b[0m\u001b[34mINFO    \u001b[0m Loading data from \u001b[32m'preprocessed_announcements'\u001b[0m \u001b[1m(\u001b[0mParquetDataSet\u001b[1m)\u001b[0m\u001b[33m...\u001b[0m \u001b]8;id=435152;file:///Users/anis/miniforge3/envs/scraping/lib/python3.9/site-packages/kedro/io/data_catalog.py\u001b\\\u001b[2mdata_catalog.py\u001b[0m\u001b]8;;\u001b\\\u001b[2m:\u001b[0m\u001b]8;id=720928;file:///Users/anis/miniforge3/envs/scraping/lib/python3.9/site-packages/kedro/io/data_catalog.py#343\u001b\\\u001b[2m343\u001b[0m\u001b]8;;\u001b\\\n"
      ]
     },
     "metadata": {},
     "output_type": "display_data"
    }
   ],
   "source": [
    "df = catalog.load('preprocessed_announcements')"
   ]
  },
  {
   "cell_type": "code",
   "execution_count": 8,
   "id": "26797715",
   "metadata": {},
   "outputs": [
    {
     "data": {
      "text/html": [
       "<pre style=\"white-space:pre;overflow-x:auto;line-height:normal;font-family:Menlo,'DejaVu Sans Mono',consolas,'Courier New',monospace\"><span style=\"color: #008000; text-decoration-color: #008000\">\"['electricity', 'gas', 'water', 'Garage']\"</span>\n",
       "</pre>\n"
      ],
      "text/plain": [
       "\u001b[32m\"\u001b[0m\u001b[32m[\u001b[0m\u001b[32m'electricity', 'gas', 'water', 'Garage'\u001b[0m\u001b[32m]\u001b[0m\u001b[32m\"\u001b[0m\n"
      ]
     },
     "metadata": {},
     "output_type": "display_data"
    }
   ],
   "source": [
    "df[\"property-specifications\"].loc[0]"
   ]
  },
  {
   "cell_type": "code",
   "execution_count": null,
   "id": "af82b90f",
   "metadata": {},
   "outputs": [],
   "source": []
  }
 ],
 "metadata": {
  "kernelspec": {
   "display_name": "Kedro (ouedkniss_kedro)",
   "language": "python",
   "name": "kedro_ouedkniss_kedro"
  },
  "language_info": {
   "codemirror_mode": {
    "name": "ipython",
    "version": 3
   },
   "file_extension": ".py",
   "mimetype": "text/x-python",
   "name": "python",
   "nbconvert_exporter": "python",
   "pygments_lexer": "ipython3",
   "version": "3.9.15"
  }
 },
 "nbformat": 4,
 "nbformat_minor": 5
}
